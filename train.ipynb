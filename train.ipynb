{
 "cells": [
  {
   "cell_type": "code",
   "execution_count": null,
   "metadata": {},
   "outputs": [],
   "source": [
    "import numpy as np\n",
    "import pandas as pd \n",
    "from xgboost import XGBRegressor\n",
    "from sklearn.metrics import r2_score\n",
    "from sklearn.model_selection import train_test_split\n",
    "from sklearn.multioutput import MultiOutputRegressor \n",
    "from sklearn.preprocessing import MinMaxScaler "
   ]
  },
  {
   "cell_type": "code",
   "execution_count": null,
   "metadata": {},
   "outputs": [],
   "source": [
    "DATA_DIR = \"./data\"\n",
    "MODEL = 'dinov2_vitl14'\n",
    "ITERATION = 2\n",
    "TRAIN_DATA_PATH = f\"{DATA_DIR}/train.csv\"\n",
    "TEST_DATA_PATH = f\"{DATA_DIR}/test.csv\"\n",
    "TRAIN_EMBEDDINGS_PATH = f\"{DATA_DIR}/{MODEL}_data/train_embeddings.csv\"\n",
    "TEST_EMBEDDINGS_PATH = f\"{DATA_DIR}/{MODEL}_data/test_embeddings.csv\"\n",
    "SUBMISSION_PATH = f\"{DATA_DIR}/{MODEL}_data/submission{ITERATION}.csv\"\n",
    "\n",
    "TRAIN_DATA_RATIO = 0.8\n",
    "\n",
    "AUX_START = 1\n",
    "AUX_END = 164 #7\n",
    "AUX_CATEGORIES = AUX_END - AUX_START \n",
    "\n",
    "LABLES_START = 164\n",
    "LABELS_END = 170\n",
    "LABELS_CATEGORIES = LABELS_END - LABLES_START\n"
   ]
  },
  {
   "cell_type": "code",
   "execution_count": null,
   "metadata": {},
   "outputs": [],
   "source": [
    "\n",
    "def preprocessData(filename):\n",
    "    df = pd.read_csv(filename)\n",
    "\n",
    "    imageIds = df[['id']].values.squeeze()\n",
    "    auxData = df.iloc[:, AUX_START:AUX_END]\n",
    "    labels = df.iloc[:, LABLES_START:LABELS_END]\n",
    "\n",
    "    return imageIds, auxData, labels\n",
    "\n",
    "dataScaler = MinMaxScaler((0,1))\n",
    "labelScaler = MinMaxScaler((0,1))\n",
    "\n",
    "train_ids, train_aux, train_labels = preprocessData(TRAIN_DATA_PATH)\n",
    "test_ids, test_aux, test_labels = preprocessData(TEST_DATA_PATH)\n",
    "\n",
    "train_embed = pd.read_csv(TRAIN_EMBEDDINGS_PATH)\n",
    "test_embed = pd.read_csv(TEST_EMBEDDINGS_PATH)\n",
    "\n",
    "train_embed = [train_embed.loc[train_embed['img_id'] == i].values[0,1:] for i in train_ids]\n",
    "test_embed = [test_embed.loc[test_embed['img_id'] == i].values[0,1:] for i in test_ids]\n",
    "\n",
    "train_data = np.concatenate((train_aux, train_embed), axis=1)\n",
    "test_data = np.concatenate((test_aux, test_embed), axis=1)"
   ]
  },
  {
   "cell_type": "code",
   "execution_count": null,
   "metadata": {},
   "outputs": [],
   "source": [
    "\n",
    "model = MultiOutputRegressor(XGBRegressor(objective ='reg:squarederror', n_estimators=100, max_depth=5, learning_rate=0.1))\n",
    "\n",
    "# Train model\n",
    "model.fit(train_data, train_labels)\n",
    "\n",
    "test_labels = model.predict(test_data)\n",
    "\n"
   ]
  },
  {
   "cell_type": "code",
   "execution_count": null,
   "metadata": {},
   "outputs": [],
   "source": []
  },
  {
   "cell_type": "code",
   "execution_count": null,
   "metadata": {},
   "outputs": [],
   "source": [
    "import csv \n",
    "\n",
    "with open(SUBMISSION_PATH, \"w\") as file:\n",
    "    columns=['id', 'X4', 'X11', 'X18', 'X26', 'X50', 'X3112']\n",
    "    csvwriter = csv.writer(file)\n",
    "    csvwriter.writerow(columns)\n",
    "    \n",
    "    for i,p  in zip(test_ids, test_labels):\n",
    "        csvwriter.writerow([i] + list(p))\n"
   ]
  },
  {
   "cell_type": "code",
   "execution_count": null,
   "metadata": {},
   "outputs": [],
   "source": [
    "SUBMISSION_PATH"
   ]
  }
 ],
 "metadata": {
  "kernelspec": {
   "display_name": "Python 3",
   "language": "python",
   "name": "python3"
  },
  "language_info": {
   "codemirror_mode": {
    "name": "ipython",
    "version": 3
   },
   "file_extension": ".py",
   "mimetype": "text/x-python",
   "name": "python",
   "nbconvert_exporter": "python",
   "pygments_lexer": "ipython3",
   "version": "3.11.0"
  }
 },
 "nbformat": 4,
 "nbformat_minor": 2
}
