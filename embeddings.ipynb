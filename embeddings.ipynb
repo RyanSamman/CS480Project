{
 "cells": [
  {
   "cell_type": "code",
   "execution_count": null,
   "metadata": {},
   "outputs": [],
   "source": [
    "import os\n",
    "os.environ['PYTORCH_ENABLE_MPS_FALLBACK'] = '1'"
   ]
  },
  {
   "cell_type": "code",
   "execution_count": null,
   "metadata": {},
   "outputs": [],
   "source": [
    "import csv\n",
    "import torch\n",
    "from torchvision import transforms\n",
    "from torch.utils.data import Dataset, DataLoader\n",
    "from PIL import Image"
   ]
  },
  {
   "cell_type": "code",
   "execution_count": null,
   "metadata": {},
   "outputs": [],
   "source": [
    "device = None\n",
    "if torch.cuda.is_available():\n",
    "    device = torch.device(\"cuda\")  # Use GPU\n",
    "    print(\"Using GPU (CUDA)\")\n",
    "elif torch.backends.mps.is_available():\n",
    "    device = torch.device(\"mps\")  # Use MPS (for macOS with Apple Silicon)\n",
    "    print(\"Using MPS (Metal Performance Shaders)\")\n",
    "else:\n",
    "    device = torch.device(\"cpu\")  # Use CPU\n",
    "    print(\"Using CPU\")\n",
    "\n",
    "assert(device is not None)"
   ]
  },
  {
   "cell_type": "code",
   "execution_count": null,
   "metadata": {},
   "outputs": [],
   "source": [
    "DATA_DIR = \"./data\"\n",
    "TRAIN_IMAGE_PATH = f\"{DATA_DIR}/train_images\"\n",
    "TEST_IMAGE_PATH = f\"{DATA_DIR}/test_images\"\n",
    "MODEL = 'dinov2_vitl14'\n",
    "TEST_EMBEDDINGS_PATH = f\"{DATA_DIR}/{MODEL}_data/test_embeddings.csv\"\n",
    "TRAIN_EMBEDDINGS_PATH = f\"{DATA_DIR}/{MODEL}_data/train_embeddings.csv\"\n",
    "BATCH_SIZE = 100\n",
    "\n"
   ]
  },
  {
   "cell_type": "code",
   "execution_count": null,
   "metadata": {},
   "outputs": [],
   "source": [
    "def loadImages(IMAGE_PATH):\n",
    "    filenames = [(f.split('.jpeg')[0], f) for f in os.listdir(IMAGE_PATH) if f.endswith('.jpeg')]\n",
    "    imageMap = [ (int(i), Image.open(os.path.join(IMAGE_PATH, p)).convert(\"RGB\")) for i, p in filenames ]\n",
    "    return imageMap\n",
    "\n",
    "trainIidsImgs = loadImages(TRAIN_IMAGE_PATH)\n",
    "testIidsImgs = loadImages(TEST_IMAGE_PATH)"
   ]
  },
  {
   "cell_type": "code",
   "execution_count": null,
   "metadata": {},
   "outputs": [],
   "source": [
    "image_transform = transforms.Compose([\n",
    "    transforms.Resize((224,224)),\n",
    "    transforms.ToTensor(),\n",
    "    transforms.Normalize([0.485, 0.456, 0.406], [0.229, 0.224, 0.225])\n",
    "])\n",
    "\n",
    "class ImageIDDataset(Dataset):\n",
    "    def __init__(self, iids):\n",
    "        self.iids = iids \n",
    "\n",
    "    def __len__(self):\n",
    "        return len(self.iids)\n",
    "\n",
    "    def __getitem__(self, idx):\n",
    "        image_id, image = self.iids[idx]\n",
    "        image = image_transform(image)\n",
    "        return image_id, image\n",
    "\n",
    "trainDataLoader = DataLoader(ImageIDDataset(trainIidsImgs), batch_size=BATCH_SIZE, shuffle=False)\n",
    "testDataLoader = DataLoader(ImageIDDataset(testIidsImgs), batch_size=BATCH_SIZE, shuffle=False)"
   ]
  },
  {
   "cell_type": "code",
   "execution_count": null,
   "metadata": {},
   "outputs": [],
   "source": [
    "model = torch.hub.load('facebookresearch/dinov2', MODEL)\n",
    "model.to(device)\n",
    "model.eval()\n",
    "print(\"Got model!\")"
   ]
  },
  {
   "cell_type": "code",
   "execution_count": null,
   "metadata": {},
   "outputs": [],
   "source": [
    "output_size = model.norm.normalized_shape[0]\n",
    "output_size"
   ]
  },
  {
   "cell_type": "code",
   "execution_count": null,
   "metadata": {},
   "outputs": [],
   "source": [
    "\n",
    "for loader, path in [(trainDataLoader, TRAIN_EMBEDDINGS_PATH), (testDataLoader, TEST_EMBEDDINGS_PATH)]:\n",
    "    with open(path, 'a') as file:\n",
    "        header = ['img_id'] + [f'f{i}' for i in range(output_size)]\n",
    "        writer = csv.writer(file)\n",
    "        writer.writerow(header)\n",
    "\n",
    "        for i, (img_ids, images) in enumerate(loader):\n",
    "            print(i, len(loader))\n",
    "\n",
    "            with torch.no_grad():\n",
    "                images = images.to(device)\n",
    "                features = model(images)\n",
    "            features = features.to('cpu')\n",
    "\n",
    "            for img_id, feature in zip(img_ids, features):\n",
    "                \n",
    "                data = [img_id.item()] + feature.tolist()\n",
    "                writer.writerow(data)\n",
    "            "
   ]
  }
 ],
 "metadata": {
  "kernelspec": {
   "display_name": "Python 3",
   "language": "python",
   "name": "python3"
  },
  "language_info": {
   "codemirror_mode": {
    "name": "ipython",
    "version": 3
   },
   "file_extension": ".py",
   "mimetype": "text/x-python",
   "name": "python",
   "nbconvert_exporter": "python",
   "pygments_lexer": "ipython3",
   "version": "3.11.0"
  }
 },
 "nbformat": 4,
 "nbformat_minor": 2
}
