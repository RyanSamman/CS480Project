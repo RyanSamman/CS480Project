{
 "cells": [
  {
   "cell_type": "code",
   "execution_count": 24,
   "metadata": {},
   "outputs": [],
   "source": [
    "import numpy as np\n",
    "import pandas as pd \n",
    "from xgboost import XGBRegressor\n",
    "from sklearn.metrics import r2_score\n",
    "from sklearn.model_selection import train_test_split\n",
    "from sklearn.multioutput import MultiOutputRegressor \n",
    "from sklearn.preprocessing import MinMaxScaler "
   ]
  },
  {
   "cell_type": "code",
   "execution_count": 25,
   "metadata": {},
   "outputs": [],
   "source": [
    "DATA_DIR = \"./data\"\n",
    "MODEL = 'dinov2_vitl14'\n",
    "TRAIN_DATA_PATH = f\"{DATA_DIR}/train.csv\"\n",
    "TEST_DATA_PATH = f\"{DATA_DIR}/test.csv\"\n",
    "TRAIN_EMBEDDINGS_PATH = f\"{DATA_DIR}/{MODEL}_data/train_embeddings.csv\"\n",
    "TEST_EMBEDDINGS_PATH = f\"{DATA_DIR}/{MODEL}_data/test_embeddings.csv\"\n",
    "\n",
    "TRAIN_DATA_RATIO = 0.8\n",
    "\n",
    "AUX_START = 1\n",
    "AUX_END = 164 #7\n",
    "AUX_CATEGORIES = AUX_END - AUX_START \n",
    "\n",
    "LABLES_START = 164\n",
    "LABELS_END = 170\n",
    "LABELS_CATEGORIES = LABELS_END - LABLES_START"
   ]
  },
  {
   "cell_type": "code",
   "execution_count": 26,
   "metadata": {},
   "outputs": [],
   "source": [
    "\n",
    "def preprocessData(filename):\n",
    "    df = pd.read_csv(filename)\n",
    "\n",
    "    imageIds = df[['id']].values.squeeze()\n",
    "    auxData = df.iloc[:, AUX_START:AUX_END]\n",
    "    labels = df.iloc[:, LABLES_START:LABELS_END]\n",
    "\n",
    "    return imageIds, auxData, labels\n",
    "\n",
    "dataScaler = MinMaxScaler((0,1))\n",
    "labelScaler = MinMaxScaler((0,1))\n",
    "\n",
    "train_ids, train_aux, train_labels_us = preprocessData(TRAIN_DATA_PATH)\n",
    "test_ids, test_aux, test_labels = preprocessData(TRAIN_DATA_PATH)\n",
    "\n",
    "train_embed = pd.read_csv(TRAIN_EMBEDDINGS_PATH)\n",
    "test_embed = pd.read_csv(TEST_EMBEDDINGS_PATH)\n",
    "\n",
    "train_embed_ii = [train_embed.loc[train_embed['img_id'] == i].values[0,1:] for i in train_ids]\n",
    "train_data_us = np.concatenate((train_aux, train_embed_ii), axis=1)"
   ]
  },
  {
   "cell_type": "code",
   "execution_count": 27,
   "metadata": {},
   "outputs": [],
   "source": [
    "train_data = dataScaler.fit_transform(train_data_us)\n",
    "train_labels = labelScaler.fit_transform(train_labels_us)"
   ]
  },
  {
   "cell_type": "code",
   "execution_count": 31,
   "metadata": {},
   "outputs": [
    {
     "name": "stdout",
     "output_type": "stream",
     "text": [
      "e:350 d:6 lr:0.07 r2:0.3825124280662952\n",
      "e:300 d:7 lr:0.06 r2:0.38311374045206753\n",
      "e:350 d:8 lr:0.06 r2:0.3854624573022669\n"
     ]
    }
   ],
   "source": [
    "X_train, X_test, y_train, y_test = train_test_split(train_data, train_labels, test_size=0.2)\n",
    "\n",
    "metaparams = [\n",
    "    (100, 5, 0.1), \n",
    "    (250, 6, 0.07), \n",
    "    # (350, 6, 0.07), \n",
    "    # (350, 6, 0.07), \n",
    "    # (300, 7, 0.06), \n",
    "    (350, 8, 0.06), \n",
    "]\n",
    "\n",
    "models = []\n",
    "preds = []\n",
    "\n",
    "for n_estimators, max_depth, learning_rate in metaparams:\n",
    "\n",
    "    model = XGBRegressor(objective ='reg:squarederror', n_estimators=n_estimators, max_depth=max_depth, learning_rate=learning_rate)\n",
    "\n",
    "    # Train model\n",
    "    model.fit(X_train, y_train)\n",
    "    models.append(model)\n",
    "\n",
    "\n",
    "    pred = model.predict(X_test)\n",
    "    preds.append(pred)\n",
    "    print(f\"e:{n_estimators} d:{max_depth} lr:{learning_rate} r2:{r2_score(y_test, pred)}\")"
   ]
  }
 ],
 "metadata": {
  "kernelspec": {
   "display_name": "Python 3",
   "language": "python",
   "name": "python3"
  },
  "language_info": {
   "codemirror_mode": {
    "name": "ipython",
    "version": 3
   },
   "file_extension": ".py",
   "mimetype": "text/x-python",
   "name": "python",
   "nbconvert_exporter": "python",
   "pygments_lexer": "ipython3",
   "version": "3.11.0"
  }
 },
 "nbformat": 4,
 "nbformat_minor": 2
}
